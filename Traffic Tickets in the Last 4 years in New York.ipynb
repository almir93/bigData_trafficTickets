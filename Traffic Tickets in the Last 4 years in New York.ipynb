{
 "cells": [
  {
   "cell_type": "markdown",
   "id": "d633b554",
   "metadata": {
    "raw_mimetype": "text/markdown"
   },
   "source": [
    "# Traffic Tickets Issued In The Last 4 Years in the State of New York\n",
    "\n",
    "## This dataset is from data.gov that holds 11 columns and 13,179,082 rows. It contains The violation charge code, description,year,month,day of week, age,gender, state of license, police agency, court and source.  \n",
    "\n",
    "\n",
    "## I have taken this data, cleaned it,  extracted useful data and recorded it at the bottom in the results section."
   ]
  },
  {
   "cell_type": "code",
   "execution_count": 23,
   "id": "1073255e",
   "metadata": {},
   "outputs": [],
   "source": [
    "import pandas as pd\n",
    "import matplotlib.pyplot as plt "
   ]
  },
  {
   "cell_type": "code",
   "execution_count": 22,
   "id": "9d659501",
   "metadata": {},
   "outputs": [],
   "source": [
    "df = pd.read_csv(\"Traffic_Tickets_Issued__Four_Year_Window.csv\")"
   ]
  },
  {
   "cell_type": "markdown",
   "id": "3ea6904d",
   "metadata": {},
   "source": [
    "**Check to see if there is any missing data:"
   ]
  },
  {
   "cell_type": "markdown",
   "id": "a60011cd",
   "metadata": {},
   "source": [
    "### Cleaning Data"
   ]
  },
  {
   "cell_type": "code",
   "execution_count": 19,
   "id": "3da3f05e",
   "metadata": {},
   "outputs": [
    {
     "data": {
      "text/plain": [
       "Violation Charged Code    0\n",
       "Violation Description     0\n",
       "Violation Year            0\n",
       "Violation Month           0\n",
       "Violation Day of Week     0\n",
       "Age at Violation          0\n",
       "Gender                    0\n",
       "State of License          0\n",
       "Police Agency             0\n",
       "Court                     0\n",
       "Source                    0\n",
       "dtype: int64"
      ]
     },
     "execution_count": 19,
     "metadata": {},
     "output_type": "execute_result"
    }
   ],
   "source": [
    "df.isnull().sum() #running isnull to see the total count of missing values in each column."
   ]
  },
  {
   "cell_type": "markdown",
   "id": "31727cbd",
   "metadata": {},
   "source": [
    "The data seems pretty clean. Only missing one column(Age at Violation) with 207,820 missing values. So i will replace those values with the average or mean of the data."
   ]
  },
  {
   "cell_type": "code",
   "execution_count": 20,
   "id": "b539a114",
   "metadata": {},
   "outputs": [],
   "source": [
    "df['Age at Violation'].fillna(int(df['Age at Violation'].mean()), inplace=True)"
   ]
  },
  {
   "cell_type": "code",
   "execution_count": 21,
   "id": "d7ddc108",
   "metadata": {},
   "outputs": [
    {
     "data": {
      "text/plain": [
       "Violation Charged Code    0\n",
       "Violation Description     0\n",
       "Violation Year            0\n",
       "Violation Month           0\n",
       "Violation Day of Week     0\n",
       "Age at Violation          0\n",
       "Gender                    0\n",
       "State of License          0\n",
       "Police Agency             0\n",
       "Court                     0\n",
       "Source                    0\n",
       "dtype: int64"
      ]
     },
     "execution_count": 21,
     "metadata": {},
     "output_type": "execute_result"
    }
   ],
   "source": [
    "df.isnull().sum()"
   ]
  },
  {
   "cell_type": "markdown",
   "id": "2b3b8cfb",
   "metadata": {},
   "source": [
    "After filing the missing data with the average age, i ran the isnull function and we can now see there is no missing data from our dataset."
   ]
  },
  {
   "cell_type": "markdown",
   "id": "d84d0cb6",
   "metadata": {},
   "source": [
    "### Extracting Information"
   ]
  },
  {
   "cell_type": "markdown",
   "id": "344cdda1",
   "metadata": {},
   "source": [
    "**Sum of each violation from greatest to least:"
   ]
  },
  {
   "cell_type": "code",
   "execution_count": 8,
   "id": "831761a6",
   "metadata": {},
   "outputs": [
    {
     "data": {
      "text/plain": [
       "SPEED IN ZONE                1322508\n",
       "DISOBEYED TRAFFIC DEVICE      927214\n",
       "UNLICENSED OPERATOR           656540\n",
       "SPEED OVER 55 ZONE            611532\n",
       "UNINSPECTED MOTOR VEHICLE     611482\n",
       "                              ...   \n",
       "NO DOT OMNIBUS INSP                1\n",
       "UNAUTH TOWING - TWY                1\n",
       "IMPROPER SALE/JUNK CAR             1\n",
       "OVERLOADED PASS VEH                1\n",
       "LITTERING ON THRUWAY               1\n",
       "Name: Violation Description, Length: 910, dtype: int64"
      ]
     },
     "execution_count": 8,
     "metadata": {},
     "output_type": "execute_result"
    }
   ],
   "source": [
    "df['Violation Description'].value_counts(ascending=False)"
   ]
  },
  {
   "cell_type": "markdown",
   "id": "7c4373a4",
   "metadata": {},
   "source": [
    "Here we see the most ticketed violation from this dataset is speeding in a Zone in the last 4 years."
   ]
  },
  {
   "cell_type": "markdown",
   "id": "8f14bb09",
   "metadata": {},
   "source": [
    "**Number of Violations each month:"
   ]
  },
  {
   "cell_type": "code",
   "execution_count": 9,
   "id": "4b0567db",
   "metadata": {},
   "outputs": [
    {
     "data": {
      "text/html": [
       "<div>\n",
       "<style scoped>\n",
       "    .dataframe tbody tr th:only-of-type {\n",
       "        vertical-align: middle;\n",
       "    }\n",
       "\n",
       "    .dataframe tbody tr th {\n",
       "        vertical-align: top;\n",
       "    }\n",
       "\n",
       "    .dataframe thead th {\n",
       "        text-align: right;\n",
       "    }\n",
       "</style>\n",
       "<table border=\"1\" class=\"dataframe\">\n",
       "  <thead>\n",
       "    <tr style=\"text-align: right;\">\n",
       "      <th></th>\n",
       "      <th>Violation Month</th>\n",
       "    </tr>\n",
       "    <tr>\n",
       "      <th>Violation Month</th>\n",
       "      <th></th>\n",
       "    </tr>\n",
       "  </thead>\n",
       "  <tbody>\n",
       "    <tr>\n",
       "      <th>1</th>\n",
       "      <td>1245586</td>\n",
       "    </tr>\n",
       "    <tr>\n",
       "      <th>2</th>\n",
       "      <td>1170458</td>\n",
       "    </tr>\n",
       "    <tr>\n",
       "      <th>3</th>\n",
       "      <td>1166519</td>\n",
       "    </tr>\n",
       "    <tr>\n",
       "      <th>4</th>\n",
       "      <td>1000999</td>\n",
       "    </tr>\n",
       "    <tr>\n",
       "      <th>5</th>\n",
       "      <td>1165321</td>\n",
       "    </tr>\n",
       "    <tr>\n",
       "      <th>6</th>\n",
       "      <td>1072133</td>\n",
       "    </tr>\n",
       "    <tr>\n",
       "      <th>7</th>\n",
       "      <td>1080568</td>\n",
       "    </tr>\n",
       "    <tr>\n",
       "      <th>8</th>\n",
       "      <td>1126886</td>\n",
       "    </tr>\n",
       "    <tr>\n",
       "      <th>9</th>\n",
       "      <td>1102159</td>\n",
       "    </tr>\n",
       "    <tr>\n",
       "      <th>10</th>\n",
       "      <td>1086889</td>\n",
       "    </tr>\n",
       "    <tr>\n",
       "      <th>11</th>\n",
       "      <td>1052981</td>\n",
       "    </tr>\n",
       "    <tr>\n",
       "      <th>12</th>\n",
       "      <td>908583</td>\n",
       "    </tr>\n",
       "  </tbody>\n",
       "</table>\n",
       "</div>"
      ],
      "text/plain": [
       "                 Violation Month\n",
       "Violation Month                 \n",
       "1                        1245586\n",
       "2                        1170458\n",
       "3                        1166519\n",
       "4                        1000999\n",
       "5                        1165321\n",
       "6                        1072133\n",
       "7                        1080568\n",
       "8                        1126886\n",
       "9                        1102159\n",
       "10                       1086889\n",
       "11                       1052981\n",
       "12                        908583"
      ]
     },
     "execution_count": 9,
     "metadata": {},
     "output_type": "execute_result"
    }
   ],
   "source": [
    "violationsPerMonth = df.groupby('Violation Month')\\\n",
    "  .agg({'Violation Month': 'count'}) "
   ]
  },
  {
   "cell_type": "code",
   "execution_count": 13,
   "id": "1cd6f048",
   "metadata": {},
   "outputs": [
    {
     "data": {
      "image/png": "[encoded data removed]",
      "text/plain": [
       "<Figure size 432x288 with 1 Axes>"
      ]
     },
     "metadata": {
      "needs_background": "light"
     },
     "output_type": "display_data"
    }
   ],
   "source": [
    "violationsPerMonth = df.groupby('Violation Month')\\\n",
    "  .agg({'Violation Month': 'count'}) \n",
    "\n",
    "ax = violationsPerMonth.plot(lw=2, colormap='jet', marker='.', markersize=10, title='Violations by Month', label='Number of Violations')\n",
    "ax.set_xlabel(\"Months\")\n",
    "ax.set_ylabel(\"Number of Violations\")\n",
    "\n",
    "plt.show()"
   ]
  },
  {
   "cell_type": "markdown",
   "id": "20b4c681",
   "metadata": {},
   "source": [
    "December has the least amount of violations while January has the most."
   ]
  },
  {
   "cell_type": "markdown",
   "id": "36cc6bdb",
   "metadata": {},
   "source": [
    "**Age Violations:"
   ]
  },
  {
   "cell_type": "code",
   "execution_count": 16,
   "id": "f8adfb14",
   "metadata": {},
   "outputs": [
    {
     "data": {
      "text/plain": [
       "37.0    495127\n",
       "24.0    430205\n",
       "25.0    428798\n",
       "26.0    427193\n",
       "23.0    426092\n",
       "27.0    424706\n",
       "28.0    418032\n",
       "22.0    417967\n",
       "21.0    405955\n",
       "29.0    399360\n",
       "Name: Age at Violation, dtype: int64"
      ]
     },
     "execution_count": 16,
     "metadata": {},
     "output_type": "execute_result"
    }
   ],
   "source": [
    "df['Age at Violation'].value_counts().head(10) # top 10 in age group with most tickets."
   ]
  },
  {
   "cell_type": "code",
   "execution_count": 17,
   "id": "37ac5d36",
   "metadata": {},
   "outputs": [
    {
     "data": {
      "text/plain": [
       "86.0    2039\n",
       "87.0    1606\n",
       "88.0    1231\n",
       "89.0    1039\n",
       "90.0     731\n",
       "91.0     494\n",
       "92.0     365\n",
       "93.0     229\n",
       "94.0     182\n",
       "95.0     115\n",
       "Name: Age at Violation, dtype: int64"
      ]
     },
     "execution_count": 17,
     "metadata": {},
     "output_type": "execute_result"
    }
   ],
   "source": [
    "df['Age at Violation'].value_counts().tail(10) # bottom 10 in age with least amount of tickets"
   ]
  },
  {
   "cell_type": "markdown",
   "id": "293fc963",
   "metadata": {},
   "source": [
    "# Results:"
   ]
  },
  {
   "cell_type": "markdown",
   "id": "af49249d",
   "metadata": {},
   "source": [
    "**Top 3 tickets given in the last 4 years in the state of New York are:\n",
    "\n",
    "* 1. SPEED IN ZONE                1,322,508\n",
    "* 2. DISOBEYED TRAFFIC DEVICE      927,214\n",
    "* 3. UNLICENSED OPERATOR           656,540\n",
    "\n",
    "\n",
    "**Month with most tickets in the last 4 years:\n",
    "* December\n",
    "\n",
    "\n",
    "**Month with last amount of tickets in 4 years:\n",
    "* January \n",
    "\n",
    "\n",
    "**Top 5 age group with most tickets:\n",
    "* 1. 37 years old:    495,127\n",
    "* 2. 24 years old:    430,205\n",
    "* 3. 25 years old:    428,798\n",
    "* 4. 26 years old:    427,193\n",
    "* 5. 23 years old:    426,092\n",
    "\n",
    "\n",
    "**Bottom 5 age group with least amount of tickets:\n",
    "* 1. 95 years old:    115\n",
    "* 2. 94 years old:    182\n",
    "* 3. 93 years old:    229\n",
    "* 4. 92 years old:    365\n",
    "* 5. 91 years old:    494\n",
    "\n",
    "\n",
    "\n"
   ]
  }
 ],
 "metadata": {
  "celltoolbar": "Raw Cell Format",
  "kernelspec": {
   "display_name": "Python 3 (ipykernel)",
   "language": "python",
   "name": "python3"
  },
  "language_info": {
   "codemirror_mode": {
    "name": "ipython",
    "version": 3
   },
   "file_extension": ".py",
   "mimetype": "text/x-python",
   "name": "python",
   "nbconvert_exporter": "python",
   "pygments_lexer": "ipython3",
   "version": "3.8.3"
  }
 },
 "nbformat": 4,
 "nbformat_minor": 5
}
